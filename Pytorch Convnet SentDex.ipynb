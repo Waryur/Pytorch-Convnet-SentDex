{
 "cells": [
  {
   "cell_type": "code",
   "execution_count": 3,
   "metadata": {},
   "outputs": [],
   "source": [
    "import os\n",
    "import cv2\n",
    "import numpy as np\n",
    "from tqdm import tqdm, trange\n",
    "import torch\n",
    "import torch.nn as nn\n",
    "import torch.nn.functional as F\n",
    "import torch.optim as optim\n",
    "import matplotlib.pyplot as plt\n",
    "\n",
    "rebuild=False\n",
    "\n",
    "class DvsC():\n",
    "    imgsize = 50\n",
    "    paths = (\"train\\\\train\\\\\", \"test1\\\\test1\\\\\")\n",
    "    labels = {\"cat\": 0, \"dog\": 1}\n",
    "    training_data = []\n",
    "    \n",
    "    catcount = 0\n",
    "    dogcount = 0\n",
    "    \n",
    "    def buildtrainingdata(self):\n",
    "        for path in paths:\n",
    "            if \"train\" in path:\n",
    "                pass\n",
    "            else:\n",
    "                for x in tqdm(os.listdir(path)):\n",
    "                    if \"jpg\" in x:\n",
    "                        try:\n",
    "                            read = cv2.imread(os.path.join(path, x), cv2.IMREAD_GRAYSCALE)\n",
    "                            read = cv2.resize(read, (self.imgsize, self.imgsize))\n",
    "\n",
    "                            if \"cat\" in x:\n",
    "                                self.training_data.append((np.array(read), np.eye(2)[self.labels['cat']]))\n",
    "                                self.catcount += 1\n",
    "                            elif \"dog\" in x:\n",
    "                                self.training_data.append((np.array(read), np.eye(2)[self.labels['dog']]))\n",
    "                                self.dogcount += 1\n",
    "\n",
    "                        except Exception as e:\n",
    "                            print(e)\n",
    "                            pass\n",
    "                \n",
    "        np.random.shuffle(self.training_data)\n",
    "        np.save(\"dvc_training_data\", self.training_data)\n",
    "        print(\"Cat count: \", self.catcount)\n",
    "        print(\"Dog count: \", self.dogcount)\n",
    "        \n",
    "if rebuild:\n",
    "    dvc = DvsC()\n",
    "    dvc.buildtrainingdata()\n"
   ]
  },
  {
   "cell_type": "code",
   "execution_count": 4,
   "metadata": {},
   "outputs": [],
   "source": [
    "if torch.cuda.is_available():\n",
    "    device = torch.device(\"cuda:0\")\n",
    "else:\n",
    "    device = torch.device(\"cpu\")"
   ]
  },
  {
   "cell_type": "code",
   "execution_count": 10,
   "metadata": {},
   "outputs": [
    {
     "name": "stderr",
     "output_type": "stream",
     "text": [
      "100%|██████████| 25000/25000 [00:00<00:00, 1251254.15it/s]\n",
      "100%|██████████| 25000/25000 [00:00<00:00, 2278720.45it/s]\n"
     ]
    },
    {
     "name": "stdout",
     "output_type": "stream",
     "text": [
      "PCT: -5000\n",
      "img: torch.Size([25000, 1, 50, 50])\n",
      "label: torch.Size([25000, 2])\n"
     ]
    }
   ],
   "source": [
    "trainset = np.load(\"dvc_training_data.npy\")\n",
    "\n",
    "img = torch.tensor([trainset[x][0].reshape(1, 50, 50) for x in trange(len(trainset))])\n",
    "img = (img/255.0).to(device)\n",
    "label = torch.tensor([trainset[x][1] for x in trange(len(trainset))]).float().to(device)\n",
    "print(\"PCT:\", int(-len(img)*.2))\n",
    "print(\"img:\", img.shape)\n",
    "print(\"label:\", label.shape)"
   ]
  },
  {
   "cell_type": "code",
   "execution_count": 11,
   "metadata": {},
   "outputs": [
    {
     "name": "stdout",
     "output_type": "stream",
     "text": [
      "torch.Size([20000, 1, 50, 50])\n",
      "torch.Size([20000, 2])\n"
     ]
    }
   ],
   "source": [
    "trainImg = img[:-int(len(img)*.2)]\n",
    "trainLabel = label[:-int(len(img)*.2)]\n",
    "\n",
    "testImg = img[-int(len(img)*.2):]\n",
    "testLabel = label[-int(len(img)*.2):]\n",
    "\n",
    "print(trainImg.shape)\n",
    "print(trainLabel.shape)"
   ]
  },
  {
   "cell_type": "code",
   "execution_count": 12,
   "metadata": {},
   "outputs": [],
   "source": [
    "class Convnet(nn.Module):\n",
    "    def __init__(self):\n",
    "        super().__init__()\n",
    "        self.conv1 = nn.Conv2d(1, 65, 5)\n",
    "        self.conv2 = nn.Conv2d(65, 125, 5)\n",
    "        self.conv3 = nn.Conv2d(125, 150, 5)\n",
    "        self.fc1 = nn.Linear(2*2*150, 500)\n",
    "        self.fc2 = nn.Linear(500, 100)\n",
    "        self.fc3 = nn.Linear(100, 2)\n",
    "        self.maxpool = nn.MaxPool2d((2, 2))\n",
    "        \n",
    "    def forward(self, img):\n",
    "        inp = self.maxpool(F.relu(self.conv1(img)))\n",
    "        inp = self.maxpool(F.relu(self.conv2(inp)))\n",
    "        inp = self.maxpool(F.relu(self.conv3(inp)))\n",
    "        inp = F.relu(self.fc1(inp.view(-1, 2*2*150)))\n",
    "        inp = F.relu(self.fc2(inp))\n",
    "        inp = F.softmax(self.fc3(inp), dim=1)\n",
    "        return inp\n",
    "        \n",
    "net = Convnet().to(device)\n",
    "optimizer = optim.Adam(net.parameters(), lr=0.001)\n",
    "loss_function = nn.MSELoss()"
   ]
  },
  {
   "cell_type": "code",
   "execution_count": 20,
   "metadata": {},
   "outputs": [
    {
     "name": "stderr",
     "output_type": "stream",
     "text": [
      "100%|██████████| 40/40 [00:03<00:00, 12.90it/s]\n"
     ]
    },
    {
     "name": "stdout",
     "output_type": "stream",
     "text": [
      "tensor(0.1901, device='cuda:0', grad_fn=<MseLossBackward>)\n"
     ]
    },
    {
     "name": "stderr",
     "output_type": "stream",
     "text": [
      "100%|██████████| 40/40 [00:03<00:00, 12.92it/s]\n"
     ]
    },
    {
     "name": "stdout",
     "output_type": "stream",
     "text": [
      "tensor(0.1591, device='cuda:0', grad_fn=<MseLossBackward>)\n"
     ]
    },
    {
     "name": "stderr",
     "output_type": "stream",
     "text": [
      "100%|██████████| 40/40 [00:03<00:00, 13.17it/s]\n"
     ]
    },
    {
     "name": "stdout",
     "output_type": "stream",
     "text": [
      "tensor(0.1392, device='cuda:0', grad_fn=<MseLossBackward>)\n"
     ]
    },
    {
     "name": "stderr",
     "output_type": "stream",
     "text": [
      "100%|██████████| 40/40 [00:03<00:00, 12.81it/s]\n"
     ]
    },
    {
     "name": "stdout",
     "output_type": "stream",
     "text": [
      "tensor(0.1295, device='cuda:0', grad_fn=<MseLossBackward>)\n"
     ]
    },
    {
     "name": "stderr",
     "output_type": "stream",
     "text": [
      "100%|██████████| 40/40 [00:03<00:00, 13.14it/s]\n"
     ]
    },
    {
     "name": "stdout",
     "output_type": "stream",
     "text": [
      "tensor(0.1201, device='cuda:0', grad_fn=<MseLossBackward>)\n"
     ]
    },
    {
     "name": "stderr",
     "output_type": "stream",
     "text": [
      "100%|██████████| 40/40 [00:02<00:00, 13.23it/s]\n"
     ]
    },
    {
     "name": "stdout",
     "output_type": "stream",
     "text": [
      "tensor(0.1153, device='cuda:0', grad_fn=<MseLossBackward>)\n"
     ]
    },
    {
     "name": "stderr",
     "output_type": "stream",
     "text": [
      "100%|██████████| 40/40 [00:03<00:00, 12.01it/s]\n"
     ]
    },
    {
     "name": "stdout",
     "output_type": "stream",
     "text": [
      "tensor(0.1001, device='cuda:0', grad_fn=<MseLossBackward>)\n"
     ]
    },
    {
     "name": "stderr",
     "output_type": "stream",
     "text": [
      "100%|██████████| 40/40 [00:03<00:00, 12.61it/s]\n"
     ]
    },
    {
     "name": "stdout",
     "output_type": "stream",
     "text": [
      "tensor(0.0969, device='cuda:0', grad_fn=<MseLossBackward>)\n"
     ]
    },
    {
     "name": "stderr",
     "output_type": "stream",
     "text": [
      "100%|██████████| 40/40 [00:03<00:00, 12.83it/s]\n"
     ]
    },
    {
     "name": "stdout",
     "output_type": "stream",
     "text": [
      "tensor(0.0802, device='cuda:0', grad_fn=<MseLossBackward>)\n"
     ]
    },
    {
     "name": "stderr",
     "output_type": "stream",
     "text": [
      "100%|██████████| 40/40 [00:03<00:00, 13.06it/s]\n"
     ]
    },
    {
     "name": "stdout",
     "output_type": "stream",
     "text": [
      "tensor(0.0837, device='cuda:0', grad_fn=<MseLossBackward>)\n"
     ]
    }
   ],
   "source": [
    "def train(net, img, label):\n",
    "\n",
    "    batch_size = 500\n",
    "    epoch = 10\n",
    "    \n",
    "    for epochs in range(epoch):\n",
    "        for i in trange(0, len(img), batch_size):\n",
    "            BatchImg = img[i:i+batch_size]\n",
    "            BatchLabel = label[i:i+batch_size]\n",
    "\n",
    "            net.zero_grad()\n",
    "\n",
    "            output = net(BatchImg)\n",
    "            loss = loss_function(output, BatchLabel)\n",
    "            loss.backward()\n",
    "            optimizer.step()\n",
    "        print(loss)\n",
    "        \n",
    "train(net, trainImg, trainLabel)        "
   ]
  },
  {
   "cell_type": "code",
   "execution_count": 21,
   "metadata": {},
   "outputs": [],
   "source": [
    "def test(testImg, testLabel):\n",
    "    correct = 0\n",
    "    total = 0\n",
    "    with torch.no_grad():\n",
    "        for i in tqdm(range(len(testImg))):\n",
    "            real_class = torch.argmax(testLabel[i])\n",
    "            net_out = net(testImg[i].view(-1, 1, 50, 50))  # returns a list, \n",
    "            predicted_class = torch.argmax(net_out)\n",
    "\n",
    "            if predicted_class == real_class:\n",
    "                correct += 1\n",
    "            total += 1\n",
    "    print(\"Accuracy: \", round(correct/total, 3))"
   ]
  },
  {
   "cell_type": "code",
   "execution_count": 22,
   "metadata": {},
   "outputs": [
    {
     "name": "stderr",
     "output_type": "stream",
     "text": [
      "100%|██████████| 5000/5000 [00:08<00:00, 584.28it/s]\n"
     ]
    },
    {
     "name": "stdout",
     "output_type": "stream",
     "text": [
      "Accuracy:  0.775\n"
     ]
    }
   ],
   "source": [
    "test(testImg, testLabel)"
   ]
  },
  {
   "cell_type": "code",
   "execution_count": null,
   "metadata": {},
   "outputs": [],
   "source": []
  }
 ],
 "metadata": {
  "kernelspec": {
   "display_name": "Python 3",
   "language": "python",
   "name": "python3"
  },
  "language_info": {
   "codemirror_mode": {
    "name": "ipython",
    "version": 3
   },
   "file_extension": ".py",
   "mimetype": "text/x-python",
   "name": "python",
   "nbconvert_exporter": "python",
   "pygments_lexer": "ipython3",
   "version": "3.7.1"
  }
 },
 "nbformat": 4,
 "nbformat_minor": 2
}
